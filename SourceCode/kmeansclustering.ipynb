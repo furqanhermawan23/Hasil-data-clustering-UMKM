{
  "nbformat": 4,
  "nbformat_minor": 0,
  "metadata": {
    "colab": {
      "name": "kmeansclustering.ipynb",
      "provenance": []
    },
    "kernelspec": {
      "name": "python3",
      "display_name": "Python 3"
    }
  },
  "cells": [
    {
      "cell_type": "markdown",
      "metadata": {
        "id": "CFwBc7nyozbh"
      },
      "source": [
        "### **K MEANS CLUSTERING**\n",
        "### **MENENTUKAN UMKM POTENSIAL KOTA BANDA ACEH**\n",
        "\n",
        "Oleh : Furqan Hermawan "
      ]
    },
    {
      "cell_type": "markdown",
      "metadata": {
        "id": "Cmu-iPIIo1iB"
      },
      "source": [
        "####**Upload Data set**\n",
        "\n",
        "Data set diperoleh dari website Dinas Koperasi Dan UMKM Provinsi Aceh\n",
        "\n",
        "*Selengkapnya dapat dilihat di* :http://datakumkm.acehprov.go.id/index.php/umkm"
      ]
    },
    {
      "cell_type": "code",
      "metadata": {
        "id": "1k6zPtw4ooZ0"
      },
      "source": [
        "from google.colab import files\n",
        "files.upload()"
      ],
      "execution_count": null,
      "outputs": []
    },
    {
      "cell_type": "markdown",
      "metadata": {
        "id": "dbQxPPubpKGh"
      },
      "source": [
        "####**Import Library**"
      ]
    },
    {
      "cell_type": "code",
      "metadata": {
        "id": "6_xgtkZ0pFp3"
      },
      "source": [
        "import numpy as np\n",
        "import pandas as pd\n",
        "from sklearn.cluster import KMeans\n",
        "import matplotlib.pyplot as plt\n",
        "import seaborn as sns"
      ],
      "execution_count": 2,
      "outputs": []
    },
    {
      "cell_type": "markdown",
      "metadata": {
        "id": "36BHiKmAqSP9"
      },
      "source": [
        "####**Preprocessing**"
      ]
    },
    {
      "cell_type": "markdown",
      "metadata": {
        "id": "DA_Xi-6Ep2mx"
      },
      "source": [
        "*   **Data Frame**"
      ]
    },
    {
      "cell_type": "code",
      "metadata": {
        "id": "OjjyIWzBpacq"
      },
      "source": [
        "df = pd.read_csv('/content/usaha_kecil.csv')\n",
        "#df = pd.read_csv('/content/usaha_menengah.csv')\n",
        "#df = pd.read_csv('/content/usaha_mikro.csv')"
      ],
      "execution_count": 3,
      "outputs": []
    },
    {
      "cell_type": "code",
      "metadata": {
        "id": "ZuqjJv1rphvd"
      },
      "source": [
        "df.head()"
      ],
      "execution_count": null,
      "outputs": []
    },
    {
      "cell_type": "markdown",
      "metadata": {
        "id": "yqUhnHe5pznI"
      },
      "source": [
        "*   **Visualisasi pesebaran data berdasarkan aset dan omset**"
      ]
    },
    {
      "cell_type": "code",
      "metadata": {
        "id": "wdDtfbghpaXc"
      },
      "source": [
        "plt.scatter(df['Omset'],df['Aset'])"
      ],
      "execution_count": null,
      "outputs": []
    },
    {
      "cell_type": "markdown",
      "metadata": {
        "id": "oh9rF5q6qYwF"
      },
      "source": [
        "*   **Scalling Data**\n",
        "\n",
        "MinMaxScaler = Scaler tersebut membuat data berada pada rentang 0 -1"
      ]
    },
    {
      "cell_type": "code",
      "metadata": {
        "id": "OK_L8MQ5quZv"
      },
      "source": [
        "from sklearn import preprocessing"
      ],
      "execution_count": 8,
      "outputs": []
    },
    {
      "cell_type": "code",
      "metadata": {
        "id": "zBciPUocx2mP"
      },
      "source": [
        "minmax=preprocessing.MinMaxScaler().fit_transform(df[['Omset','Aset']])\n",
        "minmax"
      ],
      "execution_count": null,
      "outputs": []
    },
    {
      "cell_type": "markdown",
      "metadata": {
        "id": "OFXvUDOGr0jy"
      },
      "source": [
        "####**K Means Clustering**"
      ]
    },
    {
      "cell_type": "code",
      "metadata": {
        "id": "F5Iz7XtFr97n"
      },
      "source": [
        "kmeans = KMeans(n_clusters=3, random_state=123)\n",
        "kmeans.fit(minmax)"
      ],
      "execution_count": null,
      "outputs": []
    },
    {
      "cell_type": "code",
      "metadata": {
        "id": "IX3j2tyiwJsr"
      },
      "source": [
        "print(kmeans.cluster_centers_)"
      ],
      "execution_count": null,
      "outputs": []
    },
    {
      "cell_type": "code",
      "metadata": {
        "id": "MAqw_ZOEymbA"
      },
      "source": [
        "print(kmeans.labels_)\n",
        "df['Cluster'] = kmeans.labels_\n",
        "df"
      ],
      "execution_count": null,
      "outputs": []
    },
    {
      "cell_type": "markdown",
      "metadata": {
        "id": "pV1Y_Vo5s80I"
      },
      "source": [
        "*   **Visualisasi**"
      ]
    },
    {
      "cell_type": "code",
      "metadata": {
        "id": "Rv3s6Ra6tNDm"
      },
      "source": [
        "fig, ax = plt.subplots()\n",
        "sct = ax.scatter(minmax[:,1], minmax[:,0], s = 100,\n",
        "c = df.Cluster, alpha = 0.5)\n",
        "centers = kmeans.cluster_centers_\n",
        "ax.scatter(centers[:,1], centers[:,0], c='blue', s=200, alpha=0.5);\n",
        "\n",
        "plt.title(\"Hasil Clustering K means UMKM Banda Aceh\")\n",
        "plt.xlabel(\"Omset\")\n",
        "plt.ylabel(\"Aset\")\n",
        "plt.show()"
      ],
      "execution_count": null,
      "outputs": []
    },
    {
      "cell_type": "markdown",
      "metadata": {
        "id": "a-xinB0pt1ED"
      },
      "source": [
        "####**Download CSV**"
      ]
    },
    {
      "cell_type": "code",
      "metadata": {
        "id": "dKymY897uhku"
      },
      "source": [
        "from google.colab import files\n",
        "df.to_csv('hasil_UsahaKecil.csv')\n",
        "#df.to_csv('hasil_UsahaMenengah.csv')\n",
        "#df.to_csv('hasil_UsahaMikro.csv')   \n",
        "files.download('hasil_UsahaKecil.csv')\n",
        "#files.download('hasil_UsahaMenengah.csv')\n",
        "#files.download('hasil_UsahaMikro.csv')"
      ],
      "execution_count": null,
      "outputs": []
    }
  ]
}